{
 "cells": [
  {
   "cell_type": "code",
   "execution_count": 2,
   "metadata": {},
   "outputs": [],
   "source": [
    "import pandas as pd"
   ]
  },
  {
   "cell_type": "code",
   "execution_count": null,
   "metadata": {},
   "outputs": [],
   "source": [
    "aaexp_df = pd.read_csv('aaexp.csv')\n",
    "aaexp_df.head()"
   ]
  },
  {
   "cell_type": "code",
   "execution_count": null,
   "metadata": {},
   "outputs": [],
   "source": [
    "aaexp_df['Amount'].sum()"
   ]
  },
  {
   "cell_type": "code",
   "execution_count": null,
   "metadata": {},
   "outputs": [],
   "source": [
    "aaexp_df.groupby('Head')['Amount'].sum()"
   ]
  },
  {
   "cell_type": "code",
   "execution_count": 6,
   "metadata": {},
   "outputs": [],
   "source": [
    "pd.options.display.max_rows = 999"
   ]
  },
  {
   "cell_type": "code",
   "execution_count": 7,
   "metadata": {},
   "outputs": [],
   "source": [
    "# change the date column into date type\n",
    "aaexp_df['Date'] = pd.to_datetime(aaexp_df['Date'], errors='coerce', dayfirst=True)"
   ]
  },
  {
   "cell_type": "code",
   "execution_count": null,
   "metadata": {},
   "outputs": [],
   "source": [
    "aaexp_df"
   ]
  },
  {
   "cell_type": "code",
   "execution_count": null,
   "metadata": {},
   "outputs": [],
   "source": [
    "# sort based on date\n",
    "aaexp_df.sort_values('Date')"
   ]
  },
  {
   "cell_type": "code",
   "execution_count": null,
   "metadata": {},
   "outputs": [],
   "source": [
    "# display all rows where head is TNEB\n",
    "aaexp_df[aaexp_df['Head'] == 'Electricity'].sort_values('Date')"
   ]
  },
  {
   "cell_type": "code",
   "execution_count": null,
   "metadata": {},
   "outputs": [],
   "source": [
    "heads = aaexp_df['Head'].unique()\n",
    "heads"
   ]
  },
  {
   "cell_type": "code",
   "execution_count": null,
   "metadata": {},
   "outputs": [],
   "source": [
    "totalexp = 0\n",
    "for head in heads:\n",
    "    #print(head)\n",
    "    # sum of amount for each head\n",
    "    head_sum = aaexp_df[aaexp_df['Head'] == head]['Amount'].sum()\n",
    "    totalexp += head_sum\n",
    "    print(f\"{head}: {head_sum:,.2f}\")\n",
    "    #print('')\n",
    "print('Total sum:', totalexp)\n",
    "\n",
    "# make head and head_sum as a dictionary\n",
    "head_sum_dict = {}\n",
    "for head in heads:\n",
    "    head_sum = aaexp_df[aaexp_df['Head'] == head]['Amount'].sum()\n",
    "    head_sum_dict[head] = head_sum\n",
    "head_sum_dict\n"
   ]
  },
  {
   "cell_type": "code",
   "execution_count": null,
   "metadata": {},
   "outputs": [],
   "source": [
    "contrib_df = pd.read_csv('contrib.csv')\n",
    "contrib_df.head()"
   ]
  },
  {
   "cell_type": "code",
   "execution_count": null,
   "metadata": {},
   "outputs": [],
   "source": [
    "contrib_df['Amount'].sum()"
   ]
  },
  {
   "cell_type": "code",
   "execution_count": null,
   "metadata": {},
   "outputs": [],
   "source": [
    "# sort based on date\n",
    "contrib_df['Date'] = pd.to_datetime(contrib_df['Date'], errors='coerce', dayfirst=True)\n",
    "contrib_df.sort_values('Date')"
   ]
  },
  {
   "cell_type": "code",
   "execution_count": null,
   "metadata": {},
   "outputs": [],
   "source": [
    "print(\"Summary:\")\n",
    "print(\"Total Expenses:\", -1 * totalexp)\n",
    "totalexp = -1 * totalexp\n",
    "sarath_share = totalexp / 2\n",
    "kishore_share = totalexp / 2\n",
    "sarath_contrib = contrib_df['Amount'].sum()\n",
    "print(\"Kishore share(50%): \", kishore_share)\n",
    "print(\"Sarath share(50%): \", sarath_share)\n",
    "print(\"Sarath's Contribution (till 9/1/2025):\", sarath_contrib  )\n",
    "print(\"Sarath's Contribution (Due to Kishore):\", sarath_share - sarath_contrib)"
   ]
  },
  {
   "cell_type": "code",
   "execution_count": null,
   "metadata": {},
   "outputs": [],
   "source": []
  }
 ],
 "metadata": {
  "kernelspec": {
   "display_name": ".venv",
   "language": "python",
   "name": "python3"
  },
  "language_info": {
   "codemirror_mode": {
    "name": "ipython",
    "version": 3
   },
   "file_extension": ".py",
   "mimetype": "text/x-python",
   "name": "python",
   "nbconvert_exporter": "python",
   "pygments_lexer": "ipython3",
   "version": "3.13.1"
  }
 },
 "nbformat": 4,
 "nbformat_minor": 2
}
